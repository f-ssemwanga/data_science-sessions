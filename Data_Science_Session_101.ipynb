{
  "nbformat": 4,
  "nbformat_minor": 0,
  "metadata": {
    "colab": {
      "provenance": [],
      "authorship_tag": "ABX9TyMWdAoZ8I+6eNrxWKWPVeWa",
      "include_colab_link": true
    },
    "kernelspec": {
      "name": "python3",
      "display_name": "Python 3"
    },
    "language_info": {
      "name": "python"
    }
  },
  "cells": [
    {
      "cell_type": "markdown",
      "metadata": {
        "id": "view-in-github",
        "colab_type": "text"
      },
      "source": [
        "<a href=\"https://colab.research.google.com/github/f-ssemwanga/data_science-sessions/blob/main/Data_Science_Session_101.ipynb\" target=\"_parent\"><img src=\"https://colab.research.google.com/assets/colab-badge.svg\" alt=\"Open In Colab\"/></a>"
      ]
    },
    {
      "cell_type": "code",
      "execution_count": 39,
      "metadata": {
        "colab": {
          "base_uri": "https://localhost:8080/"
        },
        "id": "CCo5jVE0YuN5",
        "outputId": "77b1ca8a-5dc6-4667-a708-f1be410f4a1b"
      },
      "outputs": [
        {
          "output_type": "stream",
          "name": "stdout",
          "text": [
            "TensorFlow version 2.12.0\n"
          ]
        }
      ],
      "source": [
        "import tensorflow as tf\n",
        "import numpy as np\n",
        "import matplotlib.pyplot as plt\n",
        "from sklearn.preprocessing import OneHotEncoder #for converting categorical data into numeric\n",
        "\n",
        "\n",
        "print(\"TensorFlow version\", tf.__version__)\n",
        "\n"
      ]
    },
    {
      "cell_type": "code",
      "source": [
        "scaler = tf.constant(7)\n",
        "scaler.ndim #single dimention"
      ],
      "metadata": {
        "colab": {
          "base_uri": "https://localhost:8080/"
        },
        "id": "Rsc2E2cXaVon",
        "outputId": "d84e04ef-2da3-4b90-bb4c-7022b716374d"
      },
      "execution_count": null,
      "outputs": [
        {
          "output_type": "execute_result",
          "data": {
            "text/plain": [
              "0"
            ]
          },
          "metadata": {},
          "execution_count": 3
        }
      ]
    },
    {
      "cell_type": "code",
      "source": [
        "vector = tf.constant([5,5])\n",
        "vector.ndim"
      ],
      "metadata": {
        "colab": {
          "base_uri": "https://localhost:8080/"
        },
        "id": "x5Snstw8afTO",
        "outputId": "71882ede-89b8-43eb-90ea-95806474ccc8"
      },
      "execution_count": null,
      "outputs": [
        {
          "output_type": "execute_result",
          "data": {
            "text/plain": [
              "1"
            ]
          },
          "metadata": {},
          "execution_count": 4
        }
      ]
    },
    {
      "cell_type": "code",
      "source": [
        "matrix = tf.constant([[1,2], [3,4]])\n",
        "matrix.ndim"
      ],
      "metadata": {
        "colab": {
          "base_uri": "https://localhost:8080/"
        },
        "id": "v-qqUHE1aqqL",
        "outputId": "4cb1af01-fe01-498a-880f-aa8f1fd659d4"
      },
      "execution_count": null,
      "outputs": [
        {
          "output_type": "execute_result",
          "data": {
            "text/plain": [
              "2"
            ]
          },
          "metadata": {},
          "execution_count": 6
        }
      ]
    },
    {
      "cell_type": "code",
      "source": [
        "tensor = tf.constant([[[1,2,3], [4,5,6]]])\n",
        "tensor\n",
        "tensor.ndim"
      ],
      "metadata": {
        "colab": {
          "base_uri": "https://localhost:8080/"
        },
        "id": "1UL9yzYXbnwm",
        "outputId": "4ce672e0-bd87-45a7-f972-33986214b0b8"
      },
      "execution_count": null,
      "outputs": [
        {
          "output_type": "execute_result",
          "data": {
            "text/plain": [
              "3"
            ]
          },
          "metadata": {},
          "execution_count": 9
        }
      ]
    },
    {
      "cell_type": "code",
      "source": [
        "#tensor operations\n",
        "#addition - used adding mean value when you have missing value - you use mean to compute and replace the missing values\n",
        "addedTensor = tensor +10\n",
        "addedTensor\n"
      ],
      "metadata": {
        "colab": {
          "base_uri": "https://localhost:8080/"
        },
        "id": "8NpxdEPecNcN",
        "outputId": "28472432-6cc6-467e-f6be-8719b5b09472"
      },
      "execution_count": null,
      "outputs": [
        {
          "output_type": "execute_result",
          "data": {
            "text/plain": [
              "<tf.Tensor: shape=(1, 2, 3), dtype=int32, numpy=\n",
              "array([[[11, 12, 13],\n",
              "        [14, 15, 16]]], dtype=int32)>"
            ]
          },
          "metadata": {},
          "execution_count": 12
        }
      ]
    },
    {
      "cell_type": "code",
      "source": [
        "#tensor subtration\n",
        "\n",
        "subtractedTensor = tensor -7\n",
        "subtractedTensor"
      ],
      "metadata": {
        "colab": {
          "base_uri": "https://localhost:8080/"
        },
        "id": "WUCulOKcctnH",
        "outputId": "b9925b55-7500-4555-bd12-3e81c4899f7b"
      },
      "execution_count": null,
      "outputs": [
        {
          "output_type": "execute_result",
          "data": {
            "text/plain": [
              "<tf.Tensor: shape=(1, 2, 3), dtype=int32, numpy=\n",
              "array([[[-6, -5, -4],\n",
              "        [-3, -2, -1]]], dtype=int32)>"
            ]
          },
          "metadata": {},
          "execution_count": 13
        }
      ]
    },
    {
      "cell_type": "code",
      "source": [
        "#average mean\n",
        "x = np.ones((2,2)) \n",
        "y = np.zeros((2,2))\n",
        "avg = tf.keras.layers.Average()([x,y])\n",
        "avg.numpy().tolist()"
      ],
      "metadata": {
        "colab": {
          "base_uri": "https://localhost:8080/"
        },
        "id": "x3EEg8UPhIfb",
        "outputId": "7ac7689b-cfb1-48d7-a9c7-1d298f50d653"
      },
      "execution_count": 17,
      "outputs": [
        {
          "output_type": "execute_result",
          "data": {
            "text/plain": [
              "[[0.5, 0.5], [0.5, 0.5]]"
            ]
          },
          "metadata": {},
          "execution_count": 17
        }
      ]
    },
    {
      "cell_type": "markdown",
      "source": [
        "###Machine Learning and model building tasks"
      ],
      "metadata": {
        "id": "CgyQT3AGjDFJ"
      }
    },
    {
      "cell_type": "code",
      "source": [
        "### Creating data to view and fit\n",
        "#use the matplot lib library for visualisation\n",
        "\n",
        "#####Creating Features ####\n",
        "features = np.array([-7.0, 4.0, -1.0, 0, 2.0, 8.0])\n",
        "\n",
        "###Creating labels - these must match the number of features ###\n",
        "labels = np.array([3.0, 6.0, 9.0, 12.0, 15.0, 18.0 ])\n",
        "\n",
        "##visualise\n",
        "plt.scatter(features, labels)\n",
        "plt.title(\"Graph of features against their Labels\")\n",
        "plt.xlabel(\"Features\")\n",
        "plt.ylabel(\"Labels\")\n"
      ],
      "metadata": {
        "colab": {
          "base_uri": "https://localhost:8080/",
          "height": 489
        },
        "id": "qYfprZA1jNrm",
        "outputId": "601494f6-48f7-4754-f870-c3ac95cc38f5"
      },
      "execution_count": 22,
      "outputs": [
        {
          "output_type": "execute_result",
          "data": {
            "text/plain": [
              "Text(0, 0.5, 'Labels')"
            ]
          },
          "metadata": {},
          "execution_count": 22
        },
        {
          "output_type": "display_data",
          "data": {
            "text/plain": [
              "<Figure size 640x480 with 1 Axes>"
            ],
            "image/png": "[encoded data removed]"
          },
          "metadata": {}
        }
      ]
    },
    {
      "cell_type": "code",
      "source": [
        "###Creating a tensor for a house price prediction problem###\n",
        "house_info = tf.constant([\"bedroom\", \"bathroom\", \"kitchen\", \"garage\"])\n",
        "house_price = tf.constant([95000,250000,450000, 300000])\n",
        "print(\"House Attributes: \", house_info)\n",
        "print(\"House Prices: \", house_price)\n"
      ],
      "metadata": {
        "colab": {
          "base_uri": "https://localhost:8080/"
        },
        "id": "-LXie8mjmIH3",
        "outputId": "a8fa75ed-8822-4e71-a780-7f36df073e69"
      },
      "execution_count": 59,
      "outputs": [
        {
          "output_type": "stream",
          "name": "stdout",
          "text": [
            "House Attributes:  tf.Tensor([b'bedroom' b'bathroom' b'kitchen' b'garage'], shape=(4,), dtype=string)\n",
            "House Prices:  tf.Tensor([ 95000 250000 450000 300000], shape=(4,), dtype=int32)\n"
          ]
        }
      ]
    },
    {
      "cell_type": "code",
      "source": [
        "###use One-hot encoding to convert the categorical data into numeric data before fitting the model\n",
        "#reshape the data using the array.reshape(-1,1)\n",
        "house_info_reshaped = house_info.numpy().reshape(-1,1)\n",
        "\n",
        "encoder = OneHotEncoder(sparse=False)\n",
        "house_info_encoded = encoder.fit_transform(house_info_reshaped)\n"
      ],
      "metadata": {
        "colab": {
          "base_uri": "https://localhost:8080/"
        },
        "id": "TnwEScumtgR1",
        "outputId": "48f50df3-5901-499b-cc84-a810eef67cad"
      },
      "execution_count": 57,
      "outputs": [
        {
          "output_type": "stream",
          "name": "stderr",
          "text": [
            "/usr/local/lib/python3.10/dist-packages/sklearn/preprocessing/_encoders.py:868: FutureWarning: `sparse` was renamed to `sparse_output` in version 1.2 and will be removed in 1.4. `sparse_output` is ignored unless you leave `sparse` to its default value.\n",
            "  warnings.warn(\n"
          ]
        }
      ]
    },
    {
      "cell_type": "code",
      "source": [
        "###Steps in modelling  with tensor flow###\n",
        "\n",
        "###1. Create the model with sequential API\n",
        "\n",
        "model = tf.keras.Sequential([tf.keras.layers.Dense(1, activation =None)])\n",
        "model\n",
        "###2. Compile the model\n",
        "\n",
        "model.compile (loss = tf.keras.losses.mae, \n",
        "               optimizer=tf.keras.optimizers.SGD(),\n",
        "               metrics = [\"mae\"]\n",
        "               )\n",
        "\n",
        "###3.Fit the model, where epochs is the number of iteration\n",
        "### model will have higher accuracy\n",
        "model.fit(house_info_encoded, house_price, epochs=3)\n"
      ],
      "metadata": {
        "colab": {
          "base_uri": "https://localhost:8080/"
        },
        "id": "eSNgglUsnebf",
        "outputId": "4f118365-bbdb-48fc-bcd3-214054db6089"
      },
      "execution_count": 61,
      "outputs": [
        {
          "output_type": "stream",
          "name": "stdout",
          "text": [
            "Epoch 1/3\n",
            "1/1 [==============================] - 1s 1s/step - loss: 273749.8750 - mae: 273749.8750\n",
            "Epoch 2/3\n",
            "1/1 [==============================] - 0s 12ms/step - loss: 273749.8438 - mae: 273749.8438\n",
            "Epoch 3/3\n",
            "1/1 [==============================] - 0s 12ms/step - loss: 273749.8125 - mae: 273749.8125\n"
          ]
        },
        {
          "output_type": "execute_result",
          "data": {
            "text/plain": [
              "<keras.callbacks.History at 0x7ff9e15422c0>"
            ]
          },
          "metadata": {},
          "execution_count": 61
        }
      ]
    },
    {
      "cell_type": "code",
      "source": [
        "#4. prediction\n",
        "# positive indicate good predictions and negative is bad predictions\n",
        "\n",
        "model.predict(house_info_encoded)"
      ],
      "metadata": {
        "colab": {
          "base_uri": "https://localhost:8080/"
        },
        "id": "_zQMCkHwzfuS",
        "outputId": "f74f37cf-d531-4f1c-aca8-be61c1cf8ed6"
      },
      "execution_count": 62,
      "outputs": [
        {
          "output_type": "stream",
          "name": "stdout",
          "text": [
            "1/1 [==============================] - 0s 80ms/step\n"
          ]
        },
        {
          "output_type": "execute_result",
          "data": {
            "text/plain": [
              "array([[ 0.06101093],\n",
              "       [-0.2950485 ],\n",
              "       [ 0.690643  ],\n",
              "       [ 0.2781634 ]], dtype=float32)"
            ]
          },
          "metadata": {},
          "execution_count": 62
        }
      ]
    }
  ]
}